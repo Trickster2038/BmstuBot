{
 "cells": [
  {
   "cell_type": "code",
   "execution_count": 26,
   "metadata": {},
   "outputs": [],
   "source": [
    "import settings\n",
    "import psycopg2"
   ]
  },
  {
   "cell_type": "code",
   "execution_count": 27,
   "metadata": {},
   "outputs": [
    {
     "name": "stdout",
     "output_type": "stream",
     "text": [
      "127.0.0.1\n",
      "postgres\n"
     ]
    }
   ],
   "source": [
    "settings.DB.host\n",
    "db = settings.DB\n",
    "print(db.host)\n",
    "print(db.user)"
   ]
  },
  {
   "cell_type": "code",
   "execution_count": 28,
   "metadata": {},
   "outputs": [],
   "source": [
    "def connect(db):\n",
    "    global conn\n",
    "    conn = psycopg2.connect(dbname=db.name, user=db.user, \n",
    "                        password=db.password, host=db.host)\n",
    "    conn.autocommit = True\n",
    "    global cursor\n",
    "    cursor = conn.cursor()\n",
    "    return cursor"
   ]
  },
  {
   "cell_type": "code",
   "execution_count": 29,
   "metadata": {},
   "outputs": [],
   "source": [
    "def exclude(r):\n",
    "    return r[0]"
   ]
  },
  {
   "cell_type": "code",
   "execution_count": 30,
   "metadata": {},
   "outputs": [],
   "source": [
    "# 421423205\n",
    "def mockDB(cur):\n",
    "    cur.execute(\"insert into friends values (default, 2, 421423205, default)\")\n",
    "    cur.execute(\"INSERT into public.\\\"users\\\" values (0, '{Ivan}', '{Ivanov}', 1, 2, '{bio1}', true, default, default, '{uname1}', 2, default, default, default)\")\n",
    "    cur.execute(\"INSERT into public.\\\"users\\\" values (1, '{Даниил}', '{Ivanov}', 1, 2, '{bio1}', true, default, default, '{uname2}', 2, 1, default, default)\")\n",
    "    cur.execute(\"INSERT into public.\\\"users\\\" values (2, '{Михаил}', '{Ivanov}', 1, 2, '{bio1}', true, default, default, '{uname3}', 2, 1, default, default)\")\n",
    "    cur.execute(\"INSERT into public.\\\"users\\\" values (421423205, '{Сергей}', '{Астахов}', 1, 2, '{bio2}', true, default, default, '{trickster2038}', 2, 1, true, default)\")\n",
    "    cur.execute(\"INSERT into public.\\\"users\\\" values (3, '{Юрий}', '{Сидоров}', 1, 3, '{bio2}', true, default, default, '{uname4}', 2, 1, true, true)\")\n",
    "    cur.execute(\"INSERT into public.\\\"users\\\" values (4, '{Алексей}', '{Петров}', 1, 3, '{bio2}', true, default, default, '{uname5}', 2, 2, true, true)\")"
   ]
  },
  {
   "cell_type": "code",
   "execution_count": 31,
   "metadata": {},
   "outputs": [],
   "source": [
    "# ========================================"
   ]
  },
  {
   "cell_type": "code",
   "execution_count": 40,
   "metadata": {},
   "outputs": [
    {
     "name": "stdout",
     "output_type": "stream",
     "text": [
      "[]\n"
     ]
    }
   ],
   "source": [
    "cursor = connect(db)\n",
    "cursor.execute(\"truncate public.users\")\n",
    "cursor.execute(\"truncate friends\")\n",
    "mockDB(cursor)\n",
    "id = 0\n",
    "cursor.execute(\"SELECT user2 from friends where user1 = 421423205 and not applied\")\n",
    "result = cursor.fetchall()\n",
    "#result = []\n",
    "data = []\n",
    "for x in result:\n",
    "    data.append(int(x[0]))\n",
    "    print(int(x[0]))\n",
    "print(data)\n",
    "# cursor.execute(\"INSERT into public.\\\"users\\\" values (0, '{Ivan}', null, null, null, null, default, default, default, default, '{nick}', null)\")"
   ]
  },
  {
   "cell_type": "code",
   "execution_count": null,
   "metadata": {},
   "outputs": [],
   "source": [
    "# ======================================="
   ]
  },
  {
   "cell_type": "code",
   "execution_count": 9,
   "metadata": {},
   "outputs": [],
   "source": [
    "cursor.execute(\"update public.\\\"users\\\" set \\\"name\\\" = '{Ivan2}' where id = 0\")"
   ]
  },
  {
   "cell_type": "code",
   "execution_count": 10,
   "metadata": {},
   "outputs": [],
   "source": [
    "#cursor.execute(\"select faculty FROM public.\\\"users\\\" where id = 421423205\")\n",
    "#res = cursor.fetchone()\n",
    "bio1 = [\"bio1223\"]"
   ]
  },
  {
   "cell_type": "code",
   "execution_count": 32,
   "metadata": {},
   "outputs": [
    {
     "name": "stdout",
     "output_type": "stream",
     "text": [
      "Ivan2 Ivanov\n",
      "кафедра: СГН-1\n",
      "курс: 2\n",
      "данные аккаунта: не подтверждены\n",
      "\n",
      "bio1\n"
     ]
    }
   ],
   "source": [
    "id = 0\n",
    "faculties = [[\"ИУ\", 11],[\"ФН\", 14],[\"СГН\", 11],[\"МТ\", 11],[\"РЛ\", 11]]\n",
    "trust_mods = [\"не подтверждены\", \"на модерации\", \"подтверждены\"]\n",
    "cursor.execute(\"SELECT name, surname, faculty, department, course, trusted, bio  from public.users where id = {}\".format(id))\n",
    "r = cursor.fetchone()\n",
    "s = r[0][0] + \" \" + r[1][0] + \"\\n\"\n",
    "s += \"кафедра: \" + faculties[int(r[2])][0] + \"-\" + str(int(r[3])) + \"\\n\"\n",
    "s += \"курс: \" + str(int(r[4])) + \"\\n\"\n",
    "s += \"данные аккаунта: \" + trust_mods[int(r[5])] + \"\\n\\n\"\n",
    "s += r[6][0]\n",
    "print(s)"
   ]
  },
  {
   "cell_type": "code",
   "execution_count": 10,
   "metadata": {},
   "outputs": [
    {
     "data": {
      "text/plain": [
       "True"
      ]
     },
     "execution_count": 10,
     "metadata": {},
     "output_type": "execute_result"
    }
   ],
   "source": [
    "exclude(result)"
   ]
  },
  {
   "cell_type": "code",
   "execution_count": 86,
   "metadata": {},
   "outputs": [
    {
     "name": "stdout",
     "output_type": "stream",
     "text": [
      "x\n",
      "x\n",
      "x\n",
      "x\n"
     ]
    }
   ],
   "source": [
    "for i in result:\n",
    "    if i == None:\n",
    "        print(\"x\")"
   ]
  },
  {
   "cell_type": "code",
   "execution_count": 87,
   "metadata": {},
   "outputs": [],
   "source": [
    "id = 0\n",
    "cursor.execute(\"UPDATE public.\\\"users\\\" set \\\"is_filled\\\" = True where id = {}\"\\\n",
    "        .format(id))"
   ]
  },
  {
   "cell_type": "code",
   "execution_count": null,
   "metadata": {},
   "outputs": [],
   "source": []
  }
 ],
 "metadata": {
  "kernelspec": {
   "display_name": "Python 3",
   "language": "python",
   "name": "python3"
  },
  "language_info": {
   "codemirror_mode": {
    "name": "ipython",
    "version": 3
   },
   "file_extension": ".py",
   "mimetype": "text/x-python",
   "name": "python",
   "nbconvert_exporter": "python",
   "pygments_lexer": "ipython3",
   "version": "3.8.5"
  }
 },
 "nbformat": 4,
 "nbformat_minor": 4
}
