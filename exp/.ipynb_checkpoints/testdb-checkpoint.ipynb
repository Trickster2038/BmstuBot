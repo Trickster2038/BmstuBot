{
 "cells": [
  {
   "cell_type": "code",
   "execution_count": 1,
   "id": "7c822f5d",
   "metadata": {},
   "outputs": [],
   "source": [
    "import settings\n",
    "import psycopg2\n",
    "import datetime\n",
    "import pandas as pd"
   ]
  },
  {
   "cell_type": "code",
   "execution_count": 2,
   "id": "b812d089",
   "metadata": {},
   "outputs": [],
   "source": [
    "db = settings.DB"
   ]
  },
  {
   "cell_type": "code",
   "execution_count": 3,
   "id": "95194008",
   "metadata": {},
   "outputs": [],
   "source": [
    "def connect(db):\n",
    "    global conn\n",
    "    conn = psycopg2.connect(dbname=db.name, user=db.user, \n",
    "                        password=db.password, host=db.host)\n",
    "    conn.autocommit = True\n",
    "    global cursor\n",
    "    cursor = conn.cursor()\n",
    "    return cursor\n",
    "def fillFaculties(cur):\n",
    "    cur.execute(\"INSERT into beta_facultiest values (0, 'ИУ', 11)\")\n",
    "    cur.execute(\"INSERT into beta_facultiest values (1, 'ФН', 14)\")\n",
    "    cur.execute(\"INSERT into beta_facultiest values (2, 'СГН', 11)\")\n",
    "    cur.execute(\"INSERT into beta_facultiest values (3, 'МТ', 11)\")\n",
    "    cur.execute(\"INSERT into beta_facultiest values (4, 'РЛ', 11)\")\n",
    "def mockDB(cur):\n",
    "    # unfilled outgoing\n",
    "    cur.execute(\"INSERT into beta_persont values (101, 'Unfilled', 'Иванов', 1, 2,\\\n",
    "    'биография Д.И. lorem ipsum lorem ipsum lorem ipsum',\\\n",
    "    false, 0, 0, 'uname1', 2, 1, true, false)\")\n",
    "    \n",
    "    # outgoing:\n",
    "    cur.execute(\"INSERT into beta_persont values (1, 'Даниил', 'Иванов', 1, 2,\\\n",
    "    'биография Д.И. lorem ipsum lorem ipsum lorem ipsum',\\\n",
    "    true, 0, 0, 'uname1', 2, 1, false, false)\")\n",
    "    cur.execute(\"INSERT into beta_persont values (2, 'Михаил', 'Иванов', 1, 2,\\\n",
    "    'биография М.И. lorem ipsum lorem ipsum lorem ipsum',\\\n",
    "    true, 0, 0, 'uname2', 2, 1, false, false)\")\n",
    "    \n",
    "    #incoming\n",
    "    cur.execute(\"INSERT into beta_persont values (3, 'Александр', 'Иванов', 1, 2,\\\n",
    "    'биография 3 lorem ipsum lorem ipsum lorem ipsum',\\\n",
    "    true, 0, 0, 'uname3', 2, 1, false, false)\")\n",
    "    cur.execute(\"INSERT into beta_persont values (4, 'Алексей', 'Иванов', 1, 2,\\\n",
    "    'биография 4 lorem ipsum lorem ipsum lorem ipsum',\\\n",
    "    true, 0, 0, 'uname4', 2, 1, true, false)\")\n",
    "    \n",
    "    #friends safe\n",
    "    cur.execute(\"INSERT into beta_persont values (5, 'Николай', 'I', 1, 3,\\\n",
    "    'биография 5 lorem ipsum lorem ipsum lorem ipsum',\\\n",
    "    true, 0, 0, 'uname5', 2, 2, false, true)\")\n",
    "    cur.execute(\"INSERT into beta_persont values (6, 'Николай', 'II', 1, 3,\\\n",
    "    'биография 6 lorem ipsum lorem ipsum lorem ipsum',\\\n",
    "    true, 0, 0, 'uname6', 2, 2, true, true)\")\n",
    "    \n",
    "    #friends unsafe\n",
    "    cur.execute(\"INSERT into beta_persont values (7, 'Лжедмитрий', 'II', 1, 4,\\\n",
    "    'биография 6 lorem ipsum lorem ipsum lorem ipsum',\\\n",
    "    true, 0, 0, 'uname6', 2, 1, false, true)\")    \n",
    "    \n",
    "    cur.execute(\"INSERT into beta_persont values (421423205, 'Астахов', 'Сергей', 1, 2,\\\n",
    "    'биография А.С. lorem ipsum lorem ipsum lorem ipsum',\\\n",
    "    true, 0, 0, 'trickster2038', 2, 1, true, false)\")\n",
    "    cur.execute(\"INSERT into beta_friendst values (4, 421423205, 101, false)\")\n",
    "    cur.execute(\"INSERT into beta_friendst values (0, 421423205, 1, false)\")\n",
    "    cur.execute(\"INSERT into beta_friendst values (1, 421423205, 2, false)\")\n",
    "    cur.execute(\"INSERT into beta_friendst values (2, 3, 421423205, false)\")\n",
    "    cur.execute(\"INSERT into beta_friendst values (3, 4, 421423205, false)\")"
   ]
  },
  {
   "cell_type": "code",
   "execution_count": 4,
   "id": "454c9392",
   "metadata": {},
   "outputs": [
    {
     "ename": "NameError",
     "evalue": "name 'fillFaculties' is not defined",
     "output_type": "error",
     "traceback": [
      "\u001b[0;31m---------------------------------------------------------------------------\u001b[0m",
      "\u001b[0;31mNameError\u001b[0m                                 Traceback (most recent call last)",
      "\u001b[0;32m/tmp/ipykernel_3163/3887212426.py\u001b[0m in \u001b[0;36m<module>\u001b[0;34m\u001b[0m\n\u001b[1;32m      4\u001b[0m \u001b[0mcursor\u001b[0m\u001b[0;34m.\u001b[0m\u001b[0mexecute\u001b[0m\u001b[0;34m(\u001b[0m\u001b[0;34m\"truncate beta_facultiest\"\u001b[0m\u001b[0;34m)\u001b[0m\u001b[0;34m\u001b[0m\u001b[0;34m\u001b[0m\u001b[0m\n\u001b[1;32m      5\u001b[0m \u001b[0mmockDB\u001b[0m\u001b[0;34m(\u001b[0m\u001b[0mcursor\u001b[0m\u001b[0;34m)\u001b[0m\u001b[0;34m\u001b[0m\u001b[0;34m\u001b[0m\u001b[0m\n\u001b[0;32m----> 6\u001b[0;31m \u001b[0mfillFaculties\u001b[0m\u001b[0;34m(\u001b[0m\u001b[0mcursor\u001b[0m\u001b[0;34m)\u001b[0m\u001b[0;34m\u001b[0m\u001b[0;34m\u001b[0m\u001b[0m\n\u001b[0m",
      "\u001b[0;31mNameError\u001b[0m: name 'fillFaculties' is not defined"
     ]
    }
   ],
   "source": [
    "cursor = connect(db)\n",
    "cursor.execute(\"truncate beta_persont\")\n",
    "cursor.execute(\"truncate beta_friendst\")\n",
    "cursor.execute(\"truncate beta_facultiest\")\n",
    "mockDB(cursor)\n",
    "fillFaculties(cursor)"
   ]
  },
  {
   "cell_type": "code",
   "execution_count": null,
   "id": "2d31c34f",
   "metadata": {},
   "outputs": [],
   "source": []
  }
 ],
 "metadata": {
  "kernelspec": {
   "display_name": "Python 3 (ipykernel)",
   "language": "python",
   "name": "python3"
  },
  "language_info": {
   "codemirror_mode": {
    "name": "ipython",
    "version": 3
   },
   "file_extension": ".py",
   "mimetype": "text/x-python",
   "name": "python",
   "nbconvert_exporter": "python",
   "pygments_lexer": "ipython3",
   "version": "3.8.10"
  }
 },
 "nbformat": 4,
 "nbformat_minor": 5
}
