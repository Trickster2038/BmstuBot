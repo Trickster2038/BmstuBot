{
 "cells": [
  {
   "cell_type": "code",
   "execution_count": 5,
   "metadata": {},
   "outputs": [],
   "source": [
    "import settings\n",
    "import psycopg2\n",
    "import datetime"
   ]
  },
  {
   "cell_type": "code",
   "execution_count": 6,
   "metadata": {},
   "outputs": [
    {
     "name": "stdout",
     "output_type": "stream",
     "text": [
      "127.0.0.1\n",
      "postgres\n"
     ]
    }
   ],
   "source": [
    "settings.DB.host\n",
    "db = settings.DB\n",
    "print(db.host)\n",
    "print(db.user)"
   ]
  },
  {
   "cell_type": "code",
   "execution_count": 7,
   "metadata": {},
   "outputs": [],
   "source": [
    "def connect(db):\n",
    "    global conn\n",
    "    print(db.password)\n",
    "    conn = psycopg2.connect(dbname=db.name, user=db.user, \n",
    "                        password=db.password, host=db.host)\n",
    "    conn.autocommit = True\n",
    "    global cursor\n",
    "    cursor = conn.cursor()\n",
    "    \n",
    "    return cursor"
   ]
  },
  {
   "cell_type": "code",
   "execution_count": 8,
   "metadata": {},
   "outputs": [
    {
     "name": "stdout",
     "output_type": "stream",
     "text": [
      "12481632\n"
     ]
    }
   ],
   "source": [
    "cursor = connect(db)"
   ]
  },
  {
   "cell_type": "code",
   "execution_count": 9,
   "metadata": {},
   "outputs": [],
   "source": [
    "def exclude(r):\n",
    "    return r[0]"
   ]
  },
  {
   "cell_type": "code",
   "execution_count": 10,
   "metadata": {},
   "outputs": [],
   "source": [
    "# 421423205\n",
    "def mockAuth(cur):\n",
    "    x = datetime.datetime.now()\n",
    "    x = str(x).split(\".\")[0]\n",
    "    query = \"insert into auth_user values (default, 'pass1', TIMESTAMP '{}', false, 'user1',\\\n",
    "    '', '', '', false , true, TIMESTAMP '{}')\".format(x, x)\n",
    "#     query = \"insert into auth_user values \\\n",
    "# (default, 'pass1', TIMESTAMP '2021-07-06 15:54:46', false, 'user1', \\\n",
    "#  '', '', '', false , true, TIMESTAMP '2021-05-06 15:54:46')\"\n",
    "    print(query)\n",
    "    cur.execute(query)\n",
    "def mockDB(cur):\n",
    "    cur.execute(\"insert into beta_auth values (default, 'trickster2038', 'hello')\")\n",
    "    \n",
    "    cur.execute(\"insert into friends values (default, 2, 421423205, default)\")\n",
    "    cur.execute(\"insert into friends values (default, 1, 2, default)\")\n",
    "    cur.execute(\"insert into friends values (default, 0, 2, default)\")\n",
    "    cur.execute(\"INSERT into public.\\\"users\\\" values (0, '{Иван}', '{Иванов}', 1, 2, '{рассказ ою И.И.}', true, default, default, '{uname1}', 2, default, default, default)\")\n",
    "    cur.execute(\"INSERT into public.\\\"users\\\" values (1, '{Даниил}', '{Иванов}', 1, 2,\\\n",
    "    '{биография Д.И. lorem ipsum lorem ipsum lorem ipsum}',\\\n",
    "    true, default, default, '{uname2}', 2, 1, default, default)\")\n",
    "    cur.execute(\"INSERT into public.\\\"users\\\" values (2, '{Михаил}', '{Иванов}', 1, 2, '{Миша о себе}', true, default, default, '{uname3}', 2, 1, default, default)\")\n",
    "    cur.execute(\"INSERT into public.\\\"users\\\" values (421423205, '{Сергей}', '{Астахов}', 1, 2, '{bio2}', true, default, default, '{trickster2038}', 2, 1, true, default)\")\n",
    "    cur.execute(\"INSERT into public.\\\"users\\\" values (3, '{Юрий}', '{Сидоров}', 1, 3, '{bio2}', true, default, default, '{uname4}', 2, 1, true, true)\")\n",
    "    cur.execute(\"INSERT into public.\\\"users\\\" values (4, '{Алексей}', '{Петров}', 1, 3, '{bio2}', true, default, default, '{uname5}', 2, 2, true, true)\")"
   ]
  },
  {
   "cell_type": "code",
   "execution_count": 11,
   "metadata": {},
   "outputs": [],
   "source": [
    "# ========================================"
   ]
  },
  {
   "cell_type": "code",
   "execution_count": 12,
   "metadata": {},
   "outputs": [
    {
     "name": "stdout",
     "output_type": "stream",
     "text": [
      "12481632\n"
     ]
    },
    {
     "ename": "UndefinedTable",
     "evalue": "ОШИБКА:  отношение \"public.users\" не существует\n",
     "output_type": "error",
     "traceback": [
      "\u001b[0;31m---------------------------------------------------------------------------\u001b[0m",
      "\u001b[0;31mUndefinedTable\u001b[0m                            Traceback (most recent call last)",
      "\u001b[0;32m/tmp/ipykernel_33109/3593604117.py\u001b[0m in \u001b[0;36m<module>\u001b[0;34m\u001b[0m\n\u001b[1;32m      1\u001b[0m \u001b[0mcursor\u001b[0m \u001b[0;34m=\u001b[0m \u001b[0mconnect\u001b[0m\u001b[0;34m(\u001b[0m\u001b[0mdb\u001b[0m\u001b[0;34m)\u001b[0m\u001b[0;34m\u001b[0m\u001b[0;34m\u001b[0m\u001b[0m\n\u001b[0;32m----> 2\u001b[0;31m \u001b[0mcursor\u001b[0m\u001b[0;34m.\u001b[0m\u001b[0mexecute\u001b[0m\u001b[0;34m(\u001b[0m\u001b[0;34m\"truncate public.users\"\u001b[0m\u001b[0;34m)\u001b[0m\u001b[0;34m\u001b[0m\u001b[0;34m\u001b[0m\u001b[0m\n\u001b[0m\u001b[1;32m      3\u001b[0m \u001b[0mcursor\u001b[0m\u001b[0;34m.\u001b[0m\u001b[0mexecute\u001b[0m\u001b[0;34m(\u001b[0m\u001b[0;34m\"truncate friends\"\u001b[0m\u001b[0;34m)\u001b[0m\u001b[0;34m\u001b[0m\u001b[0;34m\u001b[0m\u001b[0m\n\u001b[1;32m      4\u001b[0m \u001b[0mcursor\u001b[0m\u001b[0;34m.\u001b[0m\u001b[0mexecute\u001b[0m\u001b[0;34m(\u001b[0m\u001b[0;34m\"truncate beta_auth\"\u001b[0m\u001b[0;34m)\u001b[0m\u001b[0;34m\u001b[0m\u001b[0;34m\u001b[0m\u001b[0m\n\u001b[1;32m      5\u001b[0m \u001b[0;31m#mockAuth(cursor)\u001b[0m\u001b[0;34m\u001b[0m\u001b[0;34m\u001b[0m\u001b[0;34m\u001b[0m\u001b[0m\n",
      "\u001b[0;31mUndefinedTable\u001b[0m: ОШИБКА:  отношение \"public.users\" не существует\n"
     ]
    }
   ],
   "source": [
    "cursor = connect(db)\n",
    "cursor.execute(\"truncate public.users\")\n",
    "cursor.execute(\"truncate friends\")\n",
    "cursor.execute(\"truncate beta_auth\")\n",
    "#mockAuth(cursor)\n",
    "mockDB(cursor)\n",
    "id = 0\n",
    "cursor.execute(\"SELECT user2 from friends where user1 = 421423205 and not applied\")\n",
    "result = cursor.fetchall()\n",
    "#result = []\n",
    "data = []\n",
    "for x in result:\n",
    "    data.append(int(x[0]))\n",
    "    print(int(x[0]))\n",
    "print(data)\n",
    "# cursor.execute(\"INSERT into public.\\\"users\\\" values (0, '{Ivan}', null, null, null, null, default, default, default, default, '{nick}', null)\")"
   ]
  },
  {
   "cell_type": "code",
   "execution_count": 13,
   "metadata": {},
   "outputs": [],
   "source": [
    "# ======================================="
   ]
  },
  {
   "cell_type": "code",
   "execution_count": 14,
   "metadata": {},
   "outputs": [
    {
     "ename": "UndefinedTable",
     "evalue": "ОШИБКА:  отношение \"public.users\" не существует\nLINE 1: update public.\"users\" set \"name\" = '{Ivan2}' where id = 0\n               ^\n",
     "output_type": "error",
     "traceback": [
      "\u001b[0;31m---------------------------------------------------------------------------\u001b[0m",
      "\u001b[0;31mUndefinedTable\u001b[0m                            Traceback (most recent call last)",
      "\u001b[0;32m/tmp/ipykernel_33109/979134466.py\u001b[0m in \u001b[0;36m<module>\u001b[0;34m\u001b[0m\n\u001b[0;32m----> 1\u001b[0;31m \u001b[0mcursor\u001b[0m\u001b[0;34m.\u001b[0m\u001b[0mexecute\u001b[0m\u001b[0;34m(\u001b[0m\u001b[0;34m\"update public.\\\"users\\\" set \\\"name\\\" = '{Ivan2}' where id = 0\"\u001b[0m\u001b[0;34m)\u001b[0m\u001b[0;34m\u001b[0m\u001b[0;34m\u001b[0m\u001b[0m\n\u001b[0m",
      "\u001b[0;31mUndefinedTable\u001b[0m: ОШИБКА:  отношение \"public.users\" не существует\nLINE 1: update public.\"users\" set \"name\" = '{Ivan2}' where id = 0\n               ^\n"
     ]
    }
   ],
   "source": [
    "cursor.execute(\"update public.\\\"users\\\" set \\\"name\\\" = '{Ivan2}' where id = 0\")"
   ]
  },
  {
   "cell_type": "code",
   "execution_count": 15,
   "metadata": {},
   "outputs": [],
   "source": [
    "#cursor.execute(\"select faculty FROM public.\\\"users\\\" where id = 421423205\")\n",
    "#res = cursor.fetchone()\n",
    "bio1 = [\"bio1223\"]"
   ]
  },
  {
   "cell_type": "code",
   "execution_count": 11,
   "metadata": {},
   "outputs": [
    {
     "name": "stdout",
     "output_type": "stream",
     "text": [
      "Ivan2 Иванов\n",
      "кафедра: СГН-1\n",
      "курс: 2\n",
      "данные аккаунта: не подтверждены\n",
      "\n",
      "рассказ ою И.И.\n"
     ]
    }
   ],
   "source": [
    "id = 0\n",
    "faculties = [[\"ИУ\", 11],[\"ФН\", 14],[\"СГН\", 11],[\"МТ\", 11],[\"РЛ\", 11]]\n",
    "trust_mods = [\"не подтверждены\", \"на модерации\", \"подтверждены\"]\n",
    "cursor.execute(\"SELECT name, surname, faculty, department, course, trusted, bio  from public.users where id = {}\".format(id))\n",
    "r = cursor.fetchone()\n",
    "s = r[0][0] + \" \" + r[1][0] + \"\\n\"\n",
    "s += \"кафедра: \" + faculties[int(r[2])][0] + \"-\" + str(int(r[3])) + \"\\n\"\n",
    "s += \"курс: \" + str(int(r[4])) + \"\\n\"\n",
    "s += \"данные аккаунта: \" + trust_mods[int(r[5])] + \"\\n\\n\"\n",
    "s += r[6][0]\n",
    "print(s)"
   ]
  },
  {
   "cell_type": "code",
   "execution_count": 20,
   "metadata": {},
   "outputs": [
    {
     "data": {
      "text/plain": [
       "[(Decimal('0'),\n",
       "  ['Иван'],\n",
       "  ['Иванов'],\n",
       "  Decimal('1'),\n",
       "  Decimal('2'),\n",
       "  ['рассказ ою И.И.'],\n",
       "  True,\n",
       "  Decimal('0'),\n",
       "  Decimal('0'),\n",
       "  ['uname1'],\n",
       "  Decimal('2'),\n",
       "  Decimal('0'),\n",
       "  False,\n",
       "  False),\n",
       " (Decimal('1'),\n",
       "  ['Даниил'],\n",
       "  ['Иванов'],\n",
       "  Decimal('1'),\n",
       "  Decimal('2'),\n",
       "  ['биография Д.И. lorem ipsum lorem ipsum lorem ipsum'],\n",
       "  True,\n",
       "  Decimal('0'),\n",
       "  Decimal('0'),\n",
       "  ['uname2'],\n",
       "  Decimal('2'),\n",
       "  Decimal('1'),\n",
       "  False,\n",
       "  False),\n",
       " (Decimal('2'),\n",
       "  ['Михаил'],\n",
       "  ['Иванов'],\n",
       "  Decimal('1'),\n",
       "  Decimal('2'),\n",
       "  ['Миша о себе'],\n",
       "  True,\n",
       "  Decimal('0'),\n",
       "  Decimal('0'),\n",
       "  ['uname3'],\n",
       "  Decimal('2'),\n",
       "  Decimal('1'),\n",
       "  False,\n",
       "  False),\n",
       " (Decimal('421423205'),\n",
       "  ['Сергей'],\n",
       "  ['Астахов'],\n",
       "  Decimal('1'),\n",
       "  Decimal('2'),\n",
       "  ['bio2'],\n",
       "  True,\n",
       "  Decimal('0'),\n",
       "  Decimal('0'),\n",
       "  ['trickster2038'],\n",
       "  Decimal('2'),\n",
       "  Decimal('1'),\n",
       "  True,\n",
       "  False),\n",
       " (Decimal('3'),\n",
       "  ['Юрий'],\n",
       "  ['Сидоров'],\n",
       "  Decimal('1'),\n",
       "  Decimal('3'),\n",
       "  ['bio2'],\n",
       "  True,\n",
       "  Decimal('0'),\n",
       "  Decimal('0'),\n",
       "  ['uname4'],\n",
       "  Decimal('2'),\n",
       "  Decimal('1'),\n",
       "  True,\n",
       "  True),\n",
       " (Decimal('4'),\n",
       "  ['Алексей'],\n",
       "  ['Петров'],\n",
       "  Decimal('1'),\n",
       "  Decimal('3'),\n",
       "  ['bio2'],\n",
       "  True,\n",
       "  Decimal('0'),\n",
       "  Decimal('0'),\n",
       "  ['uname5'],\n",
       "  Decimal('2'),\n",
       "  Decimal('2'),\n",
       "  True,\n",
       "  True)]"
      ]
     },
     "execution_count": 20,
     "metadata": {},
     "output_type": "execute_result"
    }
   ],
   "source": [
    "cursor.execute(\"truncate public.users\")\n",
    "cursor.execute(\"truncate friends\")\n",
    "mockDB(cursor)\n",
    "cursor.execute(\"SELECT * from users\")\n",
    "result = cursor.fetchall()\n",
    "result"
   ]
  },
  {
   "cell_type": "code",
   "execution_count": 21,
   "metadata": {},
   "outputs": [
    {
     "data": {
      "text/html": [
       "<div>\n",
       "<style scoped>\n",
       "    .dataframe tbody tr th:only-of-type {\n",
       "        vertical-align: middle;\n",
       "    }\n",
       "\n",
       "    .dataframe tbody tr th {\n",
       "        vertical-align: top;\n",
       "    }\n",
       "\n",
       "    .dataframe thead th {\n",
       "        text-align: right;\n",
       "    }\n",
       "</style>\n",
       "<table border=\"1\" class=\"dataframe\">\n",
       "  <thead>\n",
       "    <tr style=\"text-align: right;\">\n",
       "      <th></th>\n",
       "      <th>0</th>\n",
       "      <th>1</th>\n",
       "      <th>2</th>\n",
       "      <th>3</th>\n",
       "      <th>4</th>\n",
       "      <th>5</th>\n",
       "      <th>6</th>\n",
       "      <th>7</th>\n",
       "      <th>8</th>\n",
       "      <th>9</th>\n",
       "      <th>10</th>\n",
       "      <th>11</th>\n",
       "      <th>12</th>\n",
       "      <th>13</th>\n",
       "    </tr>\n",
       "  </thead>\n",
       "  <tbody>\n",
       "    <tr>\n",
       "      <th>0</th>\n",
       "      <td>0</td>\n",
       "      <td>[Иван]</td>\n",
       "      <td>[Иванов]</td>\n",
       "      <td>1</td>\n",
       "      <td>2</td>\n",
       "      <td>[рассказ ою И.И.]</td>\n",
       "      <td>True</td>\n",
       "      <td>0</td>\n",
       "      <td>0</td>\n",
       "      <td>[uname1]</td>\n",
       "      <td>2</td>\n",
       "      <td>0</td>\n",
       "      <td>False</td>\n",
       "      <td>False</td>\n",
       "    </tr>\n",
       "    <tr>\n",
       "      <th>1</th>\n",
       "      <td>1</td>\n",
       "      <td>[Даниил]</td>\n",
       "      <td>[Иванов]</td>\n",
       "      <td>1</td>\n",
       "      <td>2</td>\n",
       "      <td>[биография Д.И. lorem ipsum lorem ipsum lorem ...</td>\n",
       "      <td>True</td>\n",
       "      <td>0</td>\n",
       "      <td>0</td>\n",
       "      <td>[uname2]</td>\n",
       "      <td>2</td>\n",
       "      <td>1</td>\n",
       "      <td>False</td>\n",
       "      <td>False</td>\n",
       "    </tr>\n",
       "    <tr>\n",
       "      <th>2</th>\n",
       "      <td>2</td>\n",
       "      <td>[Михаил]</td>\n",
       "      <td>[Иванов]</td>\n",
       "      <td>1</td>\n",
       "      <td>2</td>\n",
       "      <td>[Миша о себе]</td>\n",
       "      <td>True</td>\n",
       "      <td>0</td>\n",
       "      <td>0</td>\n",
       "      <td>[uname3]</td>\n",
       "      <td>2</td>\n",
       "      <td>1</td>\n",
       "      <td>False</td>\n",
       "      <td>False</td>\n",
       "    </tr>\n",
       "    <tr>\n",
       "      <th>3</th>\n",
       "      <td>421423205</td>\n",
       "      <td>[Сергей]</td>\n",
       "      <td>[Астахов]</td>\n",
       "      <td>1</td>\n",
       "      <td>2</td>\n",
       "      <td>[bio2]</td>\n",
       "      <td>True</td>\n",
       "      <td>0</td>\n",
       "      <td>0</td>\n",
       "      <td>[trickster2038]</td>\n",
       "      <td>2</td>\n",
       "      <td>1</td>\n",
       "      <td>True</td>\n",
       "      <td>False</td>\n",
       "    </tr>\n",
       "    <tr>\n",
       "      <th>4</th>\n",
       "      <td>3</td>\n",
       "      <td>[Юрий]</td>\n",
       "      <td>[Сидоров]</td>\n",
       "      <td>1</td>\n",
       "      <td>3</td>\n",
       "      <td>[bio2]</td>\n",
       "      <td>True</td>\n",
       "      <td>0</td>\n",
       "      <td>0</td>\n",
       "      <td>[uname4]</td>\n",
       "      <td>2</td>\n",
       "      <td>1</td>\n",
       "      <td>True</td>\n",
       "      <td>True</td>\n",
       "    </tr>\n",
       "  </tbody>\n",
       "</table>\n",
       "</div>"
      ],
      "text/plain": [
       "          0         1          2  3  4   \\\n",
       "0          0    [Иван]   [Иванов]  1  2   \n",
       "1          1  [Даниил]   [Иванов]  1  2   \n",
       "2          2  [Михаил]   [Иванов]  1  2   \n",
       "3  421423205  [Сергей]  [Астахов]  1  2   \n",
       "4          3    [Юрий]  [Сидоров]  1  3   \n",
       "\n",
       "                                                  5     6  7  8   \\\n",
       "0                                  [рассказ ою И.И.]  True  0  0   \n",
       "1  [биография Д.И. lorem ipsum lorem ipsum lorem ...  True  0  0   \n",
       "2                                      [Миша о себе]  True  0  0   \n",
       "3                                             [bio2]  True  0  0   \n",
       "4                                             [bio2]  True  0  0   \n",
       "\n",
       "                9  10 11     12     13  \n",
       "0         [uname1]  2  0  False  False  \n",
       "1         [uname2]  2  1  False  False  \n",
       "2         [uname3]  2  1  False  False  \n",
       "3  [trickster2038]  2  1   True  False  \n",
       "4         [uname4]  2  1   True   True  "
      ]
     },
     "execution_count": 21,
     "metadata": {},
     "output_type": "execute_result"
    }
   ],
   "source": [
    "import pandas as pd\n",
    "df = pd.DataFrame(data=result)\n",
    "df.head()"
   ]
  },
  {
   "cell_type": "code",
   "execution_count": 87,
   "metadata": {},
   "outputs": [],
   "source": []
  },
  {
   "cell_type": "code",
   "execution_count": null,
   "metadata": {},
   "outputs": [],
   "source": []
  }
 ],
 "metadata": {
  "kernelspec": {
   "display_name": "Python 3 (ipykernel)",
   "language": "python",
   "name": "python3"
  },
  "language_info": {
   "codemirror_mode": {
    "name": "ipython",
    "version": 3
   },
   "file_extension": ".py",
   "mimetype": "text/x-python",
   "name": "python",
   "nbconvert_exporter": "python",
   "pygments_lexer": "ipython3",
   "version": "3.8.10"
  }
 },
 "nbformat": 4,
 "nbformat_minor": 4
}
