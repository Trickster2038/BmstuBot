{
 "cells": [
  {
   "cell_type": "code",
   "execution_count": 1,
   "id": "b97bfbec",
   "metadata": {},
   "outputs": [],
   "source": [
    "import settings\n",
    "import psycopg2\n",
    "import datetime"
   ]
  },
  {
   "cell_type": "code",
   "execution_count": 2,
   "id": "aec35a29",
   "metadata": {},
   "outputs": [
    {
     "name": "stdout",
     "output_type": "stream",
     "text": [
      "127.0.0.1\n",
      "postgres\n"
     ]
    }
   ],
   "source": [
    "settings.DB.host\n",
    "db = settings.DB\n",
    "print(db.host)\n",
    "print(db.user)"
   ]
  },
  {
   "cell_type": "code",
   "execution_count": 3,
   "id": "cf4d50cf",
   "metadata": {},
   "outputs": [],
   "source": [
    "def connect(db):\n",
    "    global conn\n",
    "    conn = psycopg2.connect(dbname=db.name, user=db.user, \n",
    "                        password=db.password, host=db.host)\n",
    "    conn.autocommit = True\n",
    "    global cursor\n",
    "    cursor = conn.cursor()\n",
    "    return cursor"
   ]
  },
  {
   "cell_type": "code",
   "execution_count": 4,
   "id": "643b9840",
   "metadata": {},
   "outputs": [],
   "source": [
    "def fillFaculties(cur):\n",
    "    cur.execute(\"INSERT into beta_facultiest values (0, 'ИУ', 11)\")\n",
    "    cur.execute(\"INSERT into beta_facultiest values (1, 'ФН', 14)\")\n",
    "    cur.execute(\"INSERT into beta_facultiest values (2, 'СГН', 11)\")\n",
    "    cur.execute(\"INSERT into beta_facultiest values (3, 'МТ', 11)\")\n",
    "    cur.execute(\"INSERT into beta_facultiest values (4, 'РЛ', 11)\")\n",
    "def mockDB(cur):\n",
    "    # outgoing:\n",
    "    cur.execute(\"INSERT into beta_persont values (1, 'Даниил', 'Иванов', 1, 2,\\\n",
    "    'биография Д.И. lorem ipsum lorem ipsum lorem ipsum',\\\n",
    "    true, 0, 0, 'uname2', 2, 1, false, false)\")\n",
    "    cur.execute(\"INSERT into beta_persont values (2, 'Михаил', 'Иванов', 1, 2,\\\n",
    "    'биография М.И. lorem ipsum lorem ipsum lorem ipsum',\\\n",
    "    true, 0, 0, 'uname2', 2, 1, false, false)\")\n",
    "    \n",
    "    #incoming\n",
    "    cur.execute(\"INSERT into beta_persont values (3, 'Александр', 'Иванов', 1, 2,\\\n",
    "    'биография Д.И. lorem ipsum lorem ipsum lorem ipsum',\\\n",
    "    true, 0, 0, 'uname2', 2, 1, false, false)\")\n",
    "    cur.execute(\"INSERT into beta_persont values (4, 'Алексей', 'Иванов', 1, 2,\\\n",
    "    'биография М.И. lorem ipsum lorem ipsum lorem ipsum',\\\n",
    "    true, 0, 0, 'uname2', 2, 1, false, false)\")\n",
    "    \n",
    "    \n",
    "    cur.execute(\"INSERT into beta_persont values (421423205, 'Астахов', 'Сергей', 1, 2,\\\n",
    "    'биография А.С. lorem ipsum lorem ipsum lorem ipsum',\\\n",
    "    true, 0, 0, 'trickster2038', 2, 1, false, false)\")\n",
    "    cur.execute(\"INSERT into beta_friendst values (0, 421423205, 1, false)\")\n",
    "    cur.execute(\"INSERT into beta_friendst values (1, 421423205, 2, false)\")\n",
    "    cur.execute(\"INSERT into beta_friendst values (2, 3, 421423205, false)\")\n",
    "    cur.execute(\"INSERT into beta_friendst values (3, 4, 421423205, false)\")"
   ]
  },
  {
   "cell_type": "code",
   "execution_count": 5,
   "id": "1e461925",
   "metadata": {},
   "outputs": [],
   "source": [
    "cursor = connect(db)\n",
    "cursor.execute(\"truncate beta_persont\")\n",
    "cursor.execute(\"truncate beta_friendst\")\n",
    "cursor.execute(\"truncate beta_facultiest\")\n",
    "mockDB(cursor)\n",
    "fillFaculties(cursor)"
   ]
  },
  {
   "cell_type": "code",
   "execution_count": 6,
   "id": "22c9a152",
   "metadata": {},
   "outputs": [
    {
     "data": {
      "text/plain": [
       "[(0, 421423205, 1, False),\n",
       " (1, 421423205, 2, False),\n",
       " (2, 3, 421423205, False),\n",
       " (3, 4, 421423205, False)]"
      ]
     },
     "execution_count": 6,
     "metadata": {},
     "output_type": "execute_result"
    }
   ],
   "source": [
    "cursor.execute(\"select * from beta_friendst\")\n",
    "r= cursor.fetchall()\n",
    "r"
   ]
  },
  {
   "cell_type": "code",
   "execution_count": null,
   "id": "abbbc4cf",
   "metadata": {},
   "outputs": [],
   "source": []
  },
  {
   "cell_type": "code",
   "execution_count": null,
   "id": "028701f3",
   "metadata": {},
   "outputs": [],
   "source": []
  }
 ],
 "metadata": {
  "kernelspec": {
   "display_name": "Python 3 (ipykernel)",
   "language": "python",
   "name": "python3"
  },
  "language_info": {
   "codemirror_mode": {
    "name": "ipython",
    "version": 3
   },
   "file_extension": ".py",
   "mimetype": "text/x-python",
   "name": "python",
   "nbconvert_exporter": "python",
   "pygments_lexer": "ipython3",
   "version": "3.8.10"
  }
 },
 "nbformat": 4,
 "nbformat_minor": 5
}
