{
 "cells": [
  {
   "cell_type": "code",
   "execution_count": 1,
   "id": "48a58240",
   "metadata": {},
   "outputs": [],
   "source": [
    "import settings\n",
    "import psycopg2\n",
    "import datetime"
   ]
  },
  {
   "cell_type": "code",
   "execution_count": 2,
   "id": "79b1401e",
   "metadata": {},
   "outputs": [
    {
     "name": "stdout",
     "output_type": "stream",
     "text": [
      "127.0.0.1\n",
      "postgres\n"
     ]
    }
   ],
   "source": [
    "settings.DB.host\n",
    "db = settings.DB\n",
    "print(db.host)\n",
    "print(db.user)"
   ]
  },
  {
   "cell_type": "code",
   "execution_count": 4,
   "id": "4a59ac76",
   "metadata": {},
   "outputs": [],
   "source": [
    "def connect(db):\n",
    "    global conn\n",
    "    conn = psycopg2.connect(dbname=db.name, user=db.user, \n",
    "                        password=db.password, host=db.host)\n",
    "    conn.autocommit = True\n",
    "    global cursor\n",
    "    cursor = conn.cursor()\n",
    "    return cursor"
   ]
  },
  {
   "cell_type": "code",
   "execution_count": 22,
   "id": "42618e4a",
   "metadata": {},
   "outputs": [],
   "source": [
    "def mockDB(cur):\n",
    "    # outgoing:\n",
    "    cur.execute(\"INSERT into beta_persont values (1, 'Даниил', 'Иванов', 1, 2,\\\n",
    "    'биография Д.И. lorem ipsum lorem ipsum lorem ipsum',\\\n",
    "    true, 0, 0, 'uname2', 2, 1, false, false)\")\n",
    "    cur.execute(\"INSERT into beta_persont values (2, 'Михаил', 'Иванов', 1, 2,\\\n",
    "    'биография М.И. lorem ipsum lorem ipsum lorem ipsum',\\\n",
    "    true, 0, 0, 'uname2', 2, 1, false, false)\")\n",
    "    \n",
    "    cur.execute(\"INSERT into beta_persont values (421423205, 'Астахов', 'Сергей', 1, 2,\\\n",
    "    'биография А.С. lorem ipsum lorem ipsum lorem ipsum',\\\n",
    "    true, 0, 0, 'trickster2038', 2, 1, false, false)\")\n",
    "    cur.execute(\"INSERT into beta_friendst values (0, 421423205, 1, false)\")\n",
    "    cur.execute(\"INSERT into beta_friendst values (1, 421423205, 2, false)\")"
   ]
  },
  {
   "cell_type": "code",
   "execution_count": 23,
   "id": "8e394184",
   "metadata": {},
   "outputs": [
    {
     "ename": "UniqueViolation",
     "evalue": "ОШИБКА:  повторяющееся значение ключа нарушает ограничение уникальности \"beta_friendst_pkey\"\nDETAIL:  Ключ \"(id)=(0)\" уже существует.\n",
     "output_type": "error",
     "traceback": [
      "\u001b[1;31m---------------------------------------------------------------------------\u001b[0m",
      "\u001b[1;31mUniqueViolation\u001b[0m                           Traceback (most recent call last)",
      "\u001b[1;32m~\\AppData\\Local\\Temp/ipykernel_5152/3152659050.py\u001b[0m in \u001b[0;36m<module>\u001b[1;34m\u001b[0m\n\u001b[0;32m      2\u001b[0m \u001b[0mcursor\u001b[0m\u001b[1;33m.\u001b[0m\u001b[0mexecute\u001b[0m\u001b[1;33m(\u001b[0m\u001b[1;34m\"truncate beta_persont\"\u001b[0m\u001b[1;33m)\u001b[0m\u001b[1;33m\u001b[0m\u001b[1;33m\u001b[0m\u001b[0m\n\u001b[0;32m      3\u001b[0m \u001b[0mcursor\u001b[0m\u001b[1;33m.\u001b[0m\u001b[0mexecute\u001b[0m\u001b[1;33m(\u001b[0m\u001b[1;34m\"truncate beta_friendst\"\u001b[0m\u001b[1;33m)\u001b[0m\u001b[1;33m\u001b[0m\u001b[1;33m\u001b[0m\u001b[0m\n\u001b[1;32m----> 4\u001b[1;33m \u001b[0mmockDB\u001b[0m\u001b[1;33m(\u001b[0m\u001b[0mcursor\u001b[0m\u001b[1;33m)\u001b[0m\u001b[1;33m\u001b[0m\u001b[1;33m\u001b[0m\u001b[0m\n\u001b[0m",
      "\u001b[1;32m~\\AppData\\Local\\Temp/ipykernel_5152/1761090646.py\u001b[0m in \u001b[0;36mmockDB\u001b[1;34m(cur)\u001b[0m\n\u001b[0;32m     12\u001b[0m     true, 0, 0, 'trickster2038', 2, 1, false, false)\")\n\u001b[0;32m     13\u001b[0m     \u001b[0mcur\u001b[0m\u001b[1;33m.\u001b[0m\u001b[0mexecute\u001b[0m\u001b[1;33m(\u001b[0m\u001b[1;34m\"INSERT into beta_friendst values (0, 421423205, 1, false)\"\u001b[0m\u001b[1;33m)\u001b[0m\u001b[1;33m\u001b[0m\u001b[1;33m\u001b[0m\u001b[0m\n\u001b[1;32m---> 14\u001b[1;33m     \u001b[0mcur\u001b[0m\u001b[1;33m.\u001b[0m\u001b[0mexecute\u001b[0m\u001b[1;33m(\u001b[0m\u001b[1;34m\"INSERT into beta_friendst values (0, 421423205, 2, false)\"\u001b[0m\u001b[1;33m)\u001b[0m\u001b[1;33m\u001b[0m\u001b[1;33m\u001b[0m\u001b[0m\n\u001b[0m",
      "\u001b[1;31mUniqueViolation\u001b[0m: ОШИБКА:  повторяющееся значение ключа нарушает ограничение уникальности \"beta_friendst_pkey\"\nDETAIL:  Ключ \"(id)=(0)\" уже существует.\n"
     ]
    }
   ],
   "source": [
    "cursor = connect(db)\n",
    "cursor.execute(\"truncate beta_persont\")\n",
    "cursor.execute(\"truncate beta_friendst\")\n",
    "mockDB(cursor)"
   ]
  },
  {
   "cell_type": "code",
   "execution_count": null,
   "id": "fa9c0718",
   "metadata": {},
   "outputs": [],
   "source": []
  },
  {
   "cell_type": "code",
   "execution_count": null,
   "id": "1a237e7a",
   "metadata": {},
   "outputs": [],
   "source": []
  }
 ],
 "metadata": {
  "kernelspec": {
   "display_name": "Python 3 (ipykernel)",
   "language": "python",
   "name": "python3"
  },
  "language_info": {
   "codemirror_mode": {
    "name": "ipython",
    "version": 3
   },
   "file_extension": ".py",
   "mimetype": "text/x-python",
   "name": "python",
   "nbconvert_exporter": "python",
   "pygments_lexer": "ipython3",
   "version": "3.9.7"
  }
 },
 "nbformat": 4,
 "nbformat_minor": 5
}
