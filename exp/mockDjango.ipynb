{
 "cells": [
  {
   "cell_type": "code",
   "execution_count": 1,
   "id": "c6b7f2ec",
   "metadata": {},
   "outputs": [],
   "source": [
    "import settings\n",
    "import psycopg2\n",
    "import datetime"
   ]
  },
  {
   "cell_type": "code",
   "execution_count": 2,
   "id": "cb62095e",
   "metadata": {},
   "outputs": [
    {
     "name": "stdout",
     "output_type": "stream",
     "text": [
      "127.0.0.1\n",
      "postgres\n"
     ]
    }
   ],
   "source": [
    "settings.DB.host\n",
    "db = settings.DB\n",
    "print(db.host)\n",
    "print(db.user)"
   ]
  },
  {
   "cell_type": "code",
   "execution_count": 4,
   "id": "a0853e15",
   "metadata": {},
   "outputs": [],
   "source": [
    "def connect(db):\n",
    "    global conn\n",
    "    conn = psycopg2.connect(dbname=db.name, user=db.user, \n",
    "                        password=db.password, host=db.host)\n",
    "    conn.autocommit = True\n",
    "    global cursor\n",
    "    cursor = conn.cursor()\n",
    "    return cursor"
   ]
  },
  {
   "cell_type": "code",
   "execution_count": 14,
   "id": "da704162",
   "metadata": {},
   "outputs": [],
   "source": [
    "def mockDB(cur):\n",
    "    cur.execute(\"INSERT into beta_persont values (1, 'Даниил', 'Иванов', 1, 2,\\\n",
    "    'биография Д.И. lorem ipsum lorem ipsum lorem ipsum',\\\n",
    "    true, 0, 0, 'uname2', 2, 1, false, false)\")\n",
    "    cur.execute(\"INSERT into beta_persont values (421423205, 'Астахов', 'Сергей', 1, 2,\\\n",
    "    'биография А.С. lorem ipsum lorem ipsum lorem ipsum',\\\n",
    "    true, 0, 0, 'trickster2038', 2, 1, false, false)\")"
   ]
  },
  {
   "cell_type": "code",
   "execution_count": 15,
   "id": "b40fa69d",
   "metadata": {},
   "outputs": [],
   "source": [
    "cursor = connect(db)\n",
    "cursor.execute(\"truncate beta_persont\")\n",
    "mockDB(cursor)"
   ]
  },
  {
   "cell_type": "code",
   "execution_count": null,
   "id": "61ba28ba",
   "metadata": {},
   "outputs": [],
   "source": []
  }
 ],
 "metadata": {
  "kernelspec": {
   "display_name": "Python 3 (ipykernel)",
   "language": "python",
   "name": "python3"
  },
  "language_info": {
   "codemirror_mode": {
    "name": "ipython",
    "version": 3
   },
   "file_extension": ".py",
   "mimetype": "text/x-python",
   "name": "python",
   "nbconvert_exporter": "python",
   "pygments_lexer": "ipython3",
   "version": "3.9.7"
  }
 },
 "nbformat": 4,
 "nbformat_minor": 5
}
